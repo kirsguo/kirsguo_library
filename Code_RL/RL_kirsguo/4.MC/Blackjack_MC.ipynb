{
 "cells": [
  {
   "cell_type": "markdown",
   "metadata": {
    "collapsed": true
   },
   "source": [
    "### 编程实践四 通过21点游戏来理解蒙特卡罗方法\n",
    "#### 示例：二十一点游戏 Blackjack Example\n",
    "本章的编程实践将使用MC学习来评估二十一点游戏中一个玩家的策略。为了完成这个任务，我们需要先了解二十一点游戏的规则，并构建一个游戏场景让庄家和玩家在一个给定的策略下进行博弈生成对局数据。这里的对局数据在强化学习看来就是一个个完整的状态序列组成的集合。然后我们使用本章介绍的蒙特卡罗算法来评估其中玩家的策略。本节的难点不在于蒙特卡罗学习算法的实现，而是对游戏场景的实现并生成让蒙特卡罗学算法学习的多个状态序列。\n",
    "\n",
    "**二十一点游戏规则**\n",
    "\n",
    "二十一点游戏是一个比较经典的对弈游戏，其规则也有各种不同的版本，为了简化，本文仅介绍由一个庄家(dealer)和一个玩家(player)共2位游戏者参与的一个比较基本的规则版本。游戏使用一副除大小王以外的52张扑克牌，游戏者的目标是使手中的牌的点数之和不超过21点且尽量大。其中2-10的数字牌点数就是牌面的数字，J,Q,K三类牌均记为10点，A既可以记为1也可以记为11，由游戏者根据目标自己决定。牌的花色对于计算点数没有影响。\n",
    "\n",
    "开局时，庄家将依次连续发2张牌给玩家和庄家，其中庄家的第一张牌是明牌，其牌面信息对玩家是开放的，庄家的第二张牌信息不对玩家开放。随后玩家可以根据自己手中牌的点数决定是否继续要牌(twist)或停止要牌(stick),玩家可以连续继续要牌，但一旦手中牌点数超过21点则不应继续要牌。当玩家停止要牌后，庄家可以决定是否继续要牌。如果庄家停止要牌，对局结束，双方亮牌计算输赢。\n",
    "\n",
    "计算输赢的规则如下：如果双方点数均超过21点或双方点数相同，则和局；一方21点另一方不是21点，则点数为21点的游戏者赢；如果双方点数均不到21点，则点数离21点近的玩家赢。\n",
    "\n",
    "**将二十一点游戏建模为强化学习问题**\n",
    "\n",
    "为了讲解基于完整状态序列的蒙特卡洛学习算法，我们把二十一点游戏建模成强化学习问题，设定由下面三个参数来集体描述一个状态：庄家的明牌(第一张牌)点数；玩家手中所有牌点数之和；玩家手中是否还有“可用(useable)”的A(ace)。前两个比较好理解，第三个参数是与玩家策略相关的，玩家是否有A这个比较好理解，可用的A指的是玩家手中的A按照目标最大化原则是否没有被计作1点，如果这个A没有被记为1点而是计为了11点，则成这个A为可用的A，否则认为没有可用的A，当然如果玩家手中没有A，那么也被认为是没有可用的A。例如玩家手中的牌为“A,3,6”，那么此时根据目标最大化原则，A将被计为11点，总点数为20点，此时玩家手中的A称为可用的A。加入玩家手中的牌为“A，5,7”，那么此时的A不能被计为11点只能按1计，相应总点数被计为13点，否则总点数将为23点，这时的A就不能称为可用的A。\n",
    "根据我们对状态的设定，我们使用由三个元素组成的元组来描述一个状态。例如使用(10,15, 0)表示的状态是庄家的明牌是10，玩家手中的牌加起来点数是15，并且玩家手中没有可用的A，(A,17,1)表述的状态是庄家第一张牌为A，玩家手中牌总点数为17,玩家手中有可用的A。这样的状态设定不考虑玩家手中的具体牌面信息，也不记录庄家除第一张牌外的其它牌信息。所有可能的状态构成了状态空间。\n",
    "\n",
    "该问题的行为空间比较简单，玩家只有两种选择：“继续要牌”或“停止要牌”。\n",
    "\n",
    "该问题中的状态如何转换取决于游戏者的行为以及后续发给游戏者的牌，状态间的转移概率很难计算。\n",
    "\n",
    "可以设定奖励如下：当棋局未结束时，任何状态对应的奖励为0；当棋局结束时，如果玩家赢得对局，奖励值为1，玩家输掉对局，奖励值为-1，和局是奖励为0。\n",
    "\n",
    "本问题中衰减因子$\\gamma=1$。\n",
    "\n",
    "游戏者在选择行为时都会遵循一个策略。在本例中，庄家遵循的策略是只要其手中的牌点数达到或超过17点就停止要牌。我们设定玩家遵循的策略是只要手中的牌点数不到20点就会继续要牌，点数达到或超过20点就停止要牌。\n",
    "\n",
    "我们的任务是评估玩家的这个策略，即计算在该策略下的状态价值函数，也就是计算状态空间中的每一个状态其对应的价值。\n",
    "\n",
    "**游戏场景的搭建**\n",
    "\n",
    "首先来搭建这个游戏场景，实现生成对局数据的功能，我们要实现的功能包括：统计游戏者手中牌的总点数、判断当前牌局信息对应的奖励、实现庄家与玩家的策略、模拟对局的过程生成对局数据等。为了能尽可能生成较符合实际的对局数据，我们将循环使用一副牌，对局过程中发牌、洗牌、收集已使用牌等过程都将得到较为真实的模拟。我们使用面向对象的编程思想，通过构建游戏者类和游戏场景类来实现上述功能\n",
    "\n"
   ]
  },
  {
   "cell_type": "markdown",
   "metadata": {},
   "source": [
    "首先导入一些必要的库"
   ]
  },
  {
   "cell_type": "code",
   "execution_count": 1,
   "metadata": {},
   "outputs": [],
   "source": [
    "def str_key(*args):\n",
    "    '''\n",
    "    将参数用\"_\"连接起来作为字典的键，需注意参数本身可能会是tuple或者list型，\n",
    "    比如类似((a,b,c),d)的形式。\n",
    "    '''\n",
    "    new_arg = []\n",
    "    for arg in args:\n",
    "        if type(arg) in [tuple, list]:\n",
    "            new_arg += [str(i) for i in arg]\n",
    "        else:\n",
    "            new_arg.append(str(arg))\n",
    "    return \"_\".join(new_arg)\n",
    "\n",
    "\n",
    "def set_dict(target_dict, value, *args):\n",
    "    target_dict[str_key(*args)] = value\n",
    "\n",
    "\n",
    "def get_dict(target_dict, *args):\n",
    "    return target_dict.get(str_key(*args),0)\n",
    "\n",
    "\n",
    "\n",
    "\n",
    "\n",
    "\n"
   ]
  },
  {
   "cell_type": "code",
   "execution_count": 2,
   "metadata": {},
   "outputs": [],
   "source": [
    "from random import shuffle\n",
    "from queue import Queue\n",
    "from tqdm import tqdm\n",
    "import math\n",
    "import matplotlib.pyplot as plt\n",
    "import numpy as np\n",
    "from mpl_toolkits.mplot3d import Axes3D"
   ]
  },
  {
   "cell_type": "code",
   "execution_count": 3,
   "metadata": {},
   "outputs": [],
   "source": [
    "class Gamer:\n",
    "    '''\n",
    "    游戏者\n",
    "    '''\n",
    "    def __init__(self, name=\"\", A=None, display=False):\n",
    "        self.name = name\n",
    "        self.cards = []  # 手中的牌\n",
    "        self.display = display  # 是否显示对局文字信息\n",
    "        self.policy = None  # 策略\n",
    "        self.learning_method = None  # 学习方法\n",
    "        self.A = A  # 行为空间\n",
    "        \n",
    "    def __str__(self):\n",
    "        return self.name\n",
    "    \n",
    "    def _value_of(self, card):\n",
    "        '''根据牌的字符判断牌的数值大小，A被输出为1, JQK均为10，其余按牌字符对应的数字取值\n",
    "        Args:\n",
    "            card: 牌面信息 str\n",
    "        Return:\n",
    "            牌的大小数值 int, A 返回 1\n",
    "        '''\n",
    "        try:\n",
    "            v = int(card)\n",
    "        except:\n",
    "            if card == 'A':\n",
    "                v = 1\n",
    "            elif card in ['J','Q','K']:\n",
    "                v = 10\n",
    "            else:\n",
    "                v = 0\n",
    "        finally:\n",
    "            return v\n",
    "    \n",
    "    def get_points(self):\n",
    "        '''统计一手牌分值，如果使用了A的1点，同时返回True\n",
    "        Args:\n",
    "            cards 庄家或玩家手中的牌 list ['A','10','3']\n",
    "        Return\n",
    "            tuple (返回牌总点数,是否使用了可复用Ace) \n",
    "            例如['A','10','3'] 返回 (14, False)\n",
    "               ['A','10'] 返回 （21, True)\n",
    "        '''\n",
    "        num_of_useable_ace = 0 # 默认没有拿到Ace\n",
    "        total_point = 0 # 总值\n",
    "        cards = self.cards\n",
    "        if cards is None:\n",
    "            return 0, False\n",
    "        for card in cards:\n",
    "            v = self._value_of(card)\n",
    "            if v == 1:\n",
    "                num_of_useable_ace += 1\n",
    "                v = 11\n",
    "            total_point += v\n",
    "        while total_point > 21 and num_of_useable_ace > 0:\n",
    "            total_point -= 10\n",
    "            num_of_useable_ace -= 1\n",
    "        return total_point, bool(num_of_useable_ace)\n",
    "    \n",
    "    def receive(self, cards=[]):  # 玩家获得一张或多张牌\n",
    "        cards = list(cards)\n",
    "        for card in cards:\n",
    "            self.cards.append(card)\n",
    "    \n",
    "    def discharge_cards(self):  # 玩家把手中的牌清空，扔牌\n",
    "        '''\n",
    "        扔牌\n",
    "        '''\n",
    "        self.cards.clear()\n",
    "    \n",
    "    def cards_info(self):  # 玩家手中牌的信息\n",
    "        '''\n",
    "        显示牌面具体信息\n",
    "        '''\n",
    "        self._info(\"{}{}现在的牌:{}\\n\".format(self.role, self,self.cards))\n",
    "    \n",
    "    def _info(self, msg):\n",
    "        if self.display:\n",
    "            print(msg, end=\"\")\n",
    "        \n",
    "        \n",
    "class Dealer(Gamer):\n",
    "    def __init__(self, name = \"\", A = None, display = False):\n",
    "        super(Dealer,self).__init__(name, A, display)\n",
    "        self.role = \"庄家\"\n",
    "        self.policy = self.dealer_policy\n",
    "    \n",
    "    def first_card_value(self):\n",
    "        if self.cards is None or len(self.cards) == 0:\n",
    "            return 0\n",
    "        return self._value_of(self.cards[0])\n",
    "    \n",
    "    def dealer_policy(self, Dealer = None):\n",
    "        action = \"\"\n",
    "        dealer_points, _ = self.get_points()\n",
    "        if dealer_points >= 17:\n",
    "            action = self.A[1] # \"停止要牌\"\n",
    "        else:\n",
    "            action = self.A[0]\n",
    "        return action\n",
    "        \n",
    "\n",
    "class Player(Gamer):\n",
    "    def __init__(self, name=\"\", A = None, display = False):\n",
    "        super(Player, self).__init__(name, A, display)\n",
    "        self.policy = self.naive_policy\n",
    "        self.role = \"玩家\"  # “庄家”还是“玩家”，庄家是特殊的玩家\n",
    "    \n",
    "    def get_state(self, dealer):\n",
    "        dealer_first_card_value = dealer.first_card_value()\n",
    "        player_points, useable_ace = self.get_points()\n",
    "        return dealer_first_card_value, player_points, useable_ace\n",
    "        \n",
    "    def get_state_name(self, dealer):\n",
    "        return str_key(self.get_state(dealer))\n",
    "\n",
    "    def naive_policy(self, dealer=None):\n",
    "        player_points, _ = self.get_points()\n",
    "        if player_points < 20:\n",
    "            action = self.A[0]\n",
    "        else:\n",
    "            action = self.A[1]        \n",
    "        return action     "
   ]
  },
  {
   "cell_type": "code",
   "execution_count": 4,
   "metadata": {},
   "outputs": [],
   "source": [
    "class Arena():\n",
    "    '''负责游戏管理\n",
    "    '''\n",
    "    def __init__(self, display = None, A = None):\n",
    "        self.cards = ['A','2','3','4','5','6','7','8','9','10','J','Q',\"K\"]*4\n",
    "        self.card_q = Queue(maxsize = 52) # 洗好的牌\n",
    "        self.cards_in_pool = [] # 已经用过的公开的牌  \n",
    "        self.display = display\n",
    "        self.episodes = [] # 产生的对局信息列表\n",
    "        self.load_cards(self.cards)# 把初始状态的52张牌装入发牌器\n",
    "        self.A = A # 获得行为空间\n",
    "\n",
    "    def load_cards(self, cards):\n",
    "        '''把收集的牌洗一洗，重新装到发牌器中\n",
    "        Args:\n",
    "            cards 要装入发牌器的多张牌 list\n",
    "        Return:\n",
    "            None\n",
    "        '''\n",
    "        shuffle(cards) # 洗牌\n",
    "        for card in cards:# deque数据结构只能一个一个添加\n",
    "            self.card_q.put(card)\n",
    "        cards.clear() # 原来的牌清空\n",
    "        return\n",
    "       \n",
    "    def reward_of(self, dealer, player):\n",
    "        '''判断玩家奖励值，附带玩家、庄家的牌点信息\n",
    "        '''\n",
    "        dealer_points, _ = dealer.get_points()\n",
    "        player_points, useable_ace = player.get_points()\n",
    "        if player_points > 21:\n",
    "            reward = -1\n",
    "        else:\n",
    "            if player_points > dealer_points or dealer_points > 21:\n",
    "                reward = 1\n",
    "            elif player_points == dealer_points:\n",
    "                reward = 0\n",
    "            else:\n",
    "                reward = -1\n",
    "        return reward, player_points, dealer_points, useable_ace\n",
    "    \n",
    "    def serve_card_to(self, player, n = 1):\n",
    "        '''给庄家或玩家发牌，如果牌不够则将公开牌池的牌洗一洗重新发牌\n",
    "        Args:\n",
    "            player 一个庄家或玩家 \n",
    "            n 一次连续发牌的数量\n",
    "        Return:\n",
    "            None\n",
    "        '''\n",
    "        cards = []  #将要发出的牌\n",
    "        for _ in range(n):\n",
    "            # 要考虑发牌器没有牌的情况\n",
    "            if self.card_q.empty():\n",
    "                self._info(\"\\n发牌器没牌了，整理废牌，重新洗牌;\")\n",
    "                shuffle(self.cards_in_pool)\n",
    "                self._info(\"一共整理了{}张已用牌，重新放入发牌器\\n\".format(len(self.cards_in_pool)))\n",
    "                assert(len(self.cards_in_pool) > 20) # 确保有足够的牌，将该数值设置成40左右时，如果玩家\n",
    "                # 即使爆点了也持续的叫牌，会导致玩家手中牌变多而发牌器和已使用的牌都很少，需避免这种情况。\n",
    "                self.load_cards(self.cards_in_pool) # 将收集来的用过的牌洗好送入发牌器重新使用\n",
    "            cards.append(self.card_q.get()) # 从发牌器发出一章牌\n",
    "        self._info(\"发了{}张牌({})给{}{};\".format(n, cards, player.role, player))\n",
    "        #self._info(msg)\n",
    "        player.receive(cards) # 牌已发给某一玩家\n",
    "        player.cards_info()\n",
    "\n",
    "        \n",
    "    def _info(self, message):\n",
    "        if self.display:\n",
    "            print(message, end=\"\")\n",
    "        \n",
    "    def recycle_cards(self, *players):\n",
    "        '''回收玩家手中的牌到公开使用过的牌池中\n",
    "        '''\n",
    "        if len(players) == 0:\n",
    "            return\n",
    "        for player in players:\n",
    "            for card in player.cards:\n",
    "                self.cards_in_pool.append(card)\n",
    "            player.discharge_cards() # 玩家手中不再留有这些牌\n",
    "                \n",
    "    def play_game(self, dealer, player):\n",
    "        '''玩一局21点，生成一个状态序列以及最终奖励（中间奖励为0）\n",
    "        Args：\n",
    "            dealer/player 庄家和玩家手中的牌 list\n",
    "        Returns:\n",
    "            tuple：episode, reward\n",
    "        '''\n",
    "        #self.collect_player_cards()\n",
    "        self._info(\"========= 开始新一局 =========\\n\")\n",
    "        self.serve_card_to(player, n=2) # 发两张牌给玩家\n",
    "        self.serve_card_to(dealer, n=2) # 发两张牌给庄家\n",
    "        episode = [] # 记录一个对局信息\n",
    "        if player.policy is None:\n",
    "            self._info(\"玩家需要一个策略\")\n",
    "            return\n",
    "        if dealer.policy is None:\n",
    "            self._info(\"庄家需要一个策略\")\n",
    "            return\n",
    "        while True:\n",
    "            action = player.policy(dealer)\n",
    "            # 玩家的策略产生一个行为\n",
    "            self._info(\"{}{}选择:{};\".format(player.role, player, action))\n",
    "            episode.append((player.get_state_name(dealer), action)) # 记录一个(s,a)\n",
    "            if action == self.A[0]: # 继续叫牌\n",
    "                self.serve_card_to(player) # 发一张牌给玩家\n",
    "            else: # 停止叫牌\n",
    "                break\n",
    "        # 玩家停止叫牌后要计算下玩家手中的点数，玩家如果爆了，庄家就不用继续了        \n",
    "        reward, player_points, dealer_points, useable_ace = self.reward_of(dealer, player)\n",
    "        \n",
    "        if player_points > 21:\n",
    "            self._info(\"玩家爆点{}输了，得分:{}\\n\".format(player_points, reward))\n",
    "            self.recycle_cards(player, dealer)\n",
    "            self.episodes.append((episode, reward)) # 预测的时候需要形成episode list后同一学习V\n",
    "            # 在蒙特卡洛控制的时候，可以不需要episodes list,生成一个episode学习一个，下同\n",
    "            self._info(\"========= 本局结束 ==========\\n\")\n",
    "            return episode, reward\n",
    "        # 玩家并没有超过21点\n",
    "        self._info(\"\\n\")\n",
    "        while True:\n",
    "            action = dealer.policy() # 庄家从其策略中获取一个行为\n",
    "            self._info(\"{}{}选择:{};\".format(dealer.role, dealer, action))\n",
    "            if action == self.A[0]: # 庄家\"继续要牌\":\n",
    "                self.serve_card_to(dealer)\n",
    "                # 停止要牌是针对玩家来说的，episode不记录庄家动作\n",
    "                # 在状态只记录庄家第一章牌信息时，可不重复记录(s,a)，因为此时玩家不再叫牌，(s,a)均相同\n",
    "                # episode.append((get_state_name(dealer, player), self.A[1]))\n",
    "            else:\n",
    "                break\n",
    "        # 双方均停止叫牌了    \n",
    "        self._info(\"\\n双方均了停止叫牌;\\n\")\n",
    "        reward, player_points, dealer_points, useable_ace = self.reward_of(dealer, player)\n",
    "        player.cards_info() \n",
    "        dealer.cards_info()\n",
    "        if reward == +1:\n",
    "            self._info(\"玩家赢了!\")\n",
    "        elif reward == -1:\n",
    "            self._info(\"玩家输了!\")\n",
    "        else:\n",
    "            self._info(\"双方和局!\")\n",
    "        self._info(\"玩家{}点,庄家{}点\\n\".format(player_points, dealer_points))\n",
    "        \n",
    "        self._info(\"========= 本局结束 ==========\\n\")\n",
    "        self.recycle_cards(player, dealer) # 回收玩家和庄家手中的牌至公开牌池\n",
    "        self.episodes.append((episode, reward)) # 将刚才产生的完整对局添加值状态序列列表，蒙特卡洛控制不需要\n",
    "        return episode, reward\n",
    "    \n",
    "    def play_games(self, dealer, player, num=2, show_statistic = True):\n",
    "        '''一次性玩多局游戏\n",
    "        '''\n",
    "        results = [0, 0, 0]# 玩家负、和、胜局数\n",
    "        self.episodes.clear()\n",
    "        for i in tqdm(range(num)):\n",
    "            episode, reward = self.play_game(dealer, player)\n",
    "            results[1+reward] += 1\n",
    "            if player.learning_method is not None:\n",
    "                player.learning_method(episode ,reward)\n",
    "        if show_statistic:\n",
    "            print(\"共玩了{}局，玩家赢{}局，和{}局，输{}局，胜率：{:.2f},不输率:{:.2f}\"\\\n",
    "              .format(num, results[2],results[1],results[0],results[2]/num,(results[2]+results[1])/num))\n",
    "        pass\n",
    "    \n"
   ]
  },
  {
   "cell_type": "code",
   "execution_count": 5,
   "metadata": {},
   "outputs": [],
   "source": [
    "A=[\"继续叫牌\",\"停止叫牌\"]\n",
    "display = False\n",
    "# 创建一个玩家一个庄家，玩家使用原始策略，庄家使用其固定的策略\n",
    "player = Player(A = A, display = display)\n",
    "dealer = Dealer(A = A, display = display)\n",
    "# 创建一个场景\n",
    "arena = Arena(A = A, display=display)\n",
    "# 生成num个完整的对局"
   ]
  },
  {
   "cell_type": "code",
   "execution_count": 6,
   "metadata": {},
   "outputs": [
    {
     "name": "stderr",
     "output_type": "stream",
     "text": [
      "\r  0%|          | 0/200000 [00:00<?, ?it/s]"
     ]
    },
    {
     "name": "stderr",
     "output_type": "stream",
     "text": [
      "\r  0%|          | 420/200000 [00:00<00:47, 4197.60it/s]"
     ]
    },
    {
     "name": "stderr",
     "output_type": "stream",
     "text": [
      "\r  1%|          | 1044/200000 [00:00<00:42, 4652.54it/s]"
     ]
    },
    {
     "name": "stderr",
     "output_type": "stream",
     "text": [
      "\r  1%|          | 1839/200000 [00:00<00:37, 5312.27it/s]"
     ]
    },
    {
     "name": "stderr",
     "output_type": "stream",
     "text": [
      "\r  1%|          | 2328/200000 [00:00<00:38, 5177.20it/s]"
     ]
    },
    {
     "name": "stderr",
     "output_type": "stream",
     "text": [
      "\r  1%|▏         | 2777/200000 [00:00<00:47, 4143.68it/s]"
     ]
    },
    {
     "name": "stderr",
     "output_type": "stream",
     "text": [
      "\r  2%|▏         | 3176/200000 [00:00<00:50, 3929.14it/s]"
     ]
    },
    {
     "name": "stderr",
     "output_type": "stream",
     "text": [
      "\r  2%|▏         | 3561/200000 [00:00<01:12, 2706.37it/s]"
     ]
    },
    {
     "name": "stderr",
     "output_type": "stream",
     "text": [
      "\r  2%|▏         | 3877/200000 [00:01<01:09, 2803.11it/s]"
     ]
    },
    {
     "name": "stderr",
     "output_type": "stream",
     "text": [
      "\r  2%|▏         | 4194/200000 [00:01<01:07, 2903.40it/s]"
     ]
    },
    {
     "name": "stderr",
     "output_type": "stream",
     "text": [
      "\r  2%|▏         | 4509/200000 [00:01<01:07, 2906.98it/s]"
     ]
    },
    {
     "name": "stderr",
     "output_type": "stream",
     "text": [
      "\r  2%|▏         | 4817/200000 [00:01<01:08, 2847.84it/s]"
     ]
    },
    {
     "name": "stderr",
     "output_type": "stream",
     "text": [
      "\r  3%|▎         | 5375/200000 [00:01<00:58, 3337.69it/s]"
     ]
    },
    {
     "name": "stderr",
     "output_type": "stream",
     "text": [
      "\r  3%|▎         | 6217/200000 [00:01<00:47, 4075.64it/s]"
     ]
    },
    {
     "name": "stderr",
     "output_type": "stream",
     "text": [
      "\r  4%|▎         | 7090/200000 [00:01<00:39, 4851.56it/s]"
     ]
    },
    {
     "name": "stderr",
     "output_type": "stream",
     "text": [
      "\r  4%|▍         | 7920/200000 [00:01<00:34, 5540.80it/s]"
     ]
    },
    {
     "name": "stderr",
     "output_type": "stream",
     "text": [
      "\r  4%|▍         | 8733/200000 [00:01<00:31, 6125.77it/s]"
     ]
    },
    {
     "name": "stderr",
     "output_type": "stream",
     "text": [
      "\r  5%|▍         | 9456/200000 [00:01<00:30, 6312.60it/s]"
     ]
    },
    {
     "name": "stderr",
     "output_type": "stream",
     "text": [
      "\r  5%|▌         | 10271/200000 [00:02<00:28, 6769.15it/s]"
     ]
    },
    {
     "name": "stderr",
     "output_type": "stream",
     "text": [
      "\r  6%|▌         | 11152/200000 [00:02<00:25, 7274.46it/s]"
     ]
    },
    {
     "name": "stderr",
     "output_type": "stream",
     "text": [
      "\r  6%|▌         | 12029/200000 [00:02<00:24, 7665.71it/s]"
     ]
    },
    {
     "name": "stderr",
     "output_type": "stream",
     "text": [
      "\r  6%|▋         | 12897/200000 [00:02<00:23, 7943.40it/s]"
     ]
    },
    {
     "name": "stderr",
     "output_type": "stream",
     "text": [
      "\r  7%|▋         | 13726/200000 [00:02<00:23, 7937.54it/s]"
     ]
    },
    {
     "name": "stderr",
     "output_type": "stream",
     "text": [
      "\r  7%|▋         | 14544/200000 [00:02<00:23, 7974.84it/s]"
     ]
    },
    {
     "name": "stderr",
     "output_type": "stream",
     "text": [
      "\r  8%|▊         | 15359/200000 [00:02<00:23, 7978.22it/s]"
     ]
    },
    {
     "name": "stderr",
     "output_type": "stream",
     "text": [
      "\r  8%|▊         | 16169/200000 [00:02<00:22, 8005.98it/s]"
     ]
    },
    {
     "name": "stderr",
     "output_type": "stream",
     "text": [
      "\r  8%|▊         | 16996/200000 [00:02<00:22, 8082.62it/s]"
     ]
    },
    {
     "name": "stderr",
     "output_type": "stream",
     "text": [
      "\r  9%|▉         | 17862/200000 [00:02<00:22, 8246.71it/s]"
     ]
    },
    {
     "name": "stderr",
     "output_type": "stream",
     "text": [
      "\r  9%|▉         | 18750/200000 [00:03<00:21, 8425.69it/s]"
     ]
    },
    {
     "name": "stderr",
     "output_type": "stream",
     "text": [
      "\r 10%|▉         | 19643/200000 [00:03<00:21, 8568.88it/s]"
     ]
    },
    {
     "name": "stderr",
     "output_type": "stream",
     "text": [
      "\r 10%|█         | 20543/200000 [00:03<00:20, 8690.54it/s]"
     ]
    },
    {
     "name": "stderr",
     "output_type": "stream",
     "text": [
      "\r 11%|█         | 21437/200000 [00:03<00:20, 8763.23it/s]"
     ]
    },
    {
     "name": "stderr",
     "output_type": "stream",
     "text": [
      "\r 11%|█         | 22339/200000 [00:03<00:20, 8838.00it/s]"
     ]
    },
    {
     "name": "stderr",
     "output_type": "stream",
     "text": [
      "\r 12%|█▏        | 23236/200000 [00:03<00:19, 8875.64it/s]"
     ]
    },
    {
     "name": "stderr",
     "output_type": "stream",
     "text": [
      "\r 12%|█▏        | 24139/200000 [00:03<00:19, 8916.76it/s]"
     ]
    },
    {
     "name": "stderr",
     "output_type": "stream",
     "text": [
      "\r 13%|█▎        | 25032/200000 [00:03<00:21, 8183.11it/s]"
     ]
    },
    {
     "name": "stderr",
     "output_type": "stream",
     "text": [
      "\r 13%|█▎        | 25932/200000 [00:03<00:20, 8407.41it/s]"
     ]
    },
    {
     "name": "stderr",
     "output_type": "stream",
     "text": [
      "\r 13%|█▎        | 26840/200000 [00:03<00:20, 8598.22it/s]"
     ]
    },
    {
     "name": "stderr",
     "output_type": "stream",
     "text": [
      "\r 14%|█▍        | 27737/200000 [00:04<00:19, 8706.37it/s]"
     ]
    },
    {
     "name": "stderr",
     "output_type": "stream",
     "text": [
      "\r 14%|█▍        | 28614/200000 [00:04<00:20, 8299.23it/s]"
     ]
    },
    {
     "name": "stderr",
     "output_type": "stream",
     "text": [
      "\r 15%|█▍        | 29459/200000 [00:04<00:20, 8342.41it/s]"
     ]
    },
    {
     "name": "stderr",
     "output_type": "stream",
     "text": [
      "\r 15%|█▌        | 30300/200000 [00:04<00:21, 7915.94it/s]"
     ]
    },
    {
     "name": "stderr",
     "output_type": "stream",
     "text": [
      "\r 16%|█▌        | 31101/200000 [00:04<00:22, 7623.17it/s]"
     ]
    },
    {
     "name": "stderr",
     "output_type": "stream",
     "text": [
      "\r 16%|█▌        | 31872/200000 [00:04<00:22, 7481.66it/s]"
     ]
    },
    {
     "name": "stderr",
     "output_type": "stream",
     "text": [
      "\r 16%|█▋        | 32682/200000 [00:04<00:21, 7654.65it/s]"
     ]
    },
    {
     "name": "stderr",
     "output_type": "stream",
     "text": [
      "\r 17%|█▋        | 33472/200000 [00:04<00:21, 7725.64it/s]"
     ]
    },
    {
     "name": "stderr",
     "output_type": "stream",
     "text": [
      "\r 17%|█▋        | 34249/200000 [00:04<00:21, 7723.16it/s]"
     ]
    },
    {
     "name": "stderr",
     "output_type": "stream",
     "text": [
      "\r 18%|█▊        | 35090/200000 [00:05<00:20, 7910.07it/s]"
     ]
    },
    {
     "name": "stderr",
     "output_type": "stream",
     "text": [
      "\r 18%|█▊        | 35901/200000 [00:05<00:20, 7962.15it/s]"
     ]
    },
    {
     "name": "stderr",
     "output_type": "stream",
     "text": [
      "\r 18%|█▊        | 36700/200000 [00:05<00:20, 7927.81it/s]"
     ]
    },
    {
     "name": "stderr",
     "output_type": "stream",
     "text": [
      "\r 19%|█▊        | 37495/200000 [00:05<00:20, 7877.12it/s]"
     ]
    },
    {
     "name": "stderr",
     "output_type": "stream",
     "text": [
      "\r 19%|█▉        | 38351/200000 [00:05<00:20, 8070.12it/s]"
     ]
    },
    {
     "name": "stderr",
     "output_type": "stream",
     "text": [
      "\r 20%|█▉        | 39226/200000 [00:05<00:19, 8261.34it/s]"
     ]
    },
    {
     "name": "stderr",
     "output_type": "stream",
     "text": [
      "\r 20%|██        | 40055/200000 [00:05<00:19, 8248.89it/s]"
     ]
    },
    {
     "name": "stderr",
     "output_type": "stream",
     "text": [
      "\r 20%|██        | 40882/200000 [00:05<00:19, 8241.24it/s]"
     ]
    },
    {
     "name": "stderr",
     "output_type": "stream",
     "text": [
      "\r 21%|██        | 41728/200000 [00:05<00:19, 8305.33it/s]"
     ]
    },
    {
     "name": "stderr",
     "output_type": "stream",
     "text": [
      "\r 21%|██▏       | 42560/200000 [00:05<00:19, 7925.41it/s]"
     ]
    },
    {
     "name": "stderr",
     "output_type": "stream",
     "text": [
      "\r 22%|██▏       | 43365/200000 [00:06<00:19, 7960.77it/s]"
     ]
    },
    {
     "name": "stderr",
     "output_type": "stream",
     "text": [
      "\r 22%|██▏       | 44165/200000 [00:06<00:19, 7912.25it/s]"
     ]
    },
    {
     "name": "stderr",
     "output_type": "stream",
     "text": [
      "\r 22%|██▏       | 44959/200000 [00:06<00:19, 7907.18it/s]"
     ]
    },
    {
     "name": "stderr",
     "output_type": "stream",
     "text": [
      "\r 23%|██▎       | 45752/200000 [00:06<00:22, 6973.10it/s]"
     ]
    },
    {
     "name": "stderr",
     "output_type": "stream",
     "text": [
      "\r 23%|██▎       | 46533/200000 [00:06<00:21, 7195.77it/s]"
     ]
    },
    {
     "name": "stderr",
     "output_type": "stream",
     "text": [
      "\r 24%|██▎       | 47359/200000 [00:06<00:20, 7484.76it/s]"
     ]
    },
    {
     "name": "stderr",
     "output_type": "stream",
     "text": [
      "\r 24%|██▍       | 48123/200000 [00:06<00:20, 7439.43it/s]"
     ]
    },
    {
     "name": "stderr",
     "output_type": "stream",
     "text": [
      "\r 24%|██▍       | 48918/200000 [00:06<00:19, 7584.93it/s]"
     ]
    },
    {
     "name": "stderr",
     "output_type": "stream",
     "text": [
      "\r 25%|██▍       | 49685/200000 [00:06<00:19, 7535.27it/s]"
     ]
    },
    {
     "name": "stderr",
     "output_type": "stream",
     "text": [
      "\r 25%|██▌       | 50445/200000 [00:07<00:21, 6943.04it/s]"
     ]
    },
    {
     "name": "stderr",
     "output_type": "stream",
     "text": [
      "\r 26%|██▌       | 51153/200000 [00:07<00:22, 6487.29it/s]"
     ]
    },
    {
     "name": "stderr",
     "output_type": "stream",
     "text": [
      "\r 26%|██▌       | 51817/200000 [00:07<00:23, 6289.04it/s]"
     ]
    },
    {
     "name": "stderr",
     "output_type": "stream",
     "text": [
      "\r 26%|██▌       | 52458/200000 [00:07<00:27, 5464.33it/s]"
     ]
    },
    {
     "name": "stderr",
     "output_type": "stream",
     "text": [
      "\r 27%|██▋       | 53033/200000 [00:07<00:29, 4980.76it/s]"
     ]
    },
    {
     "name": "stderr",
     "output_type": "stream",
     "text": [
      "\r 27%|██▋       | 53671/200000 [00:07<00:27, 5329.16it/s]"
     ]
    },
    {
     "name": "stderr",
     "output_type": "stream",
     "text": [
      "\r 27%|██▋       | 54516/200000 [00:07<00:24, 5985.56it/s]"
     ]
    },
    {
     "name": "stderr",
     "output_type": "stream",
     "text": [
      "\r 28%|██▊       | 55163/200000 [00:07<00:23, 6121.62it/s]"
     ]
    },
    {
     "name": "stderr",
     "output_type": "stream",
     "text": [
      "\r 28%|██▊       | 55866/200000 [00:07<00:22, 6367.47it/s]"
     ]
    },
    {
     "name": "stderr",
     "output_type": "stream",
     "text": [
      "\r 28%|██▊       | 56528/200000 [00:08<00:22, 6248.42it/s]"
     ]
    },
    {
     "name": "stderr",
     "output_type": "stream",
     "text": [
      "\r 29%|██▊       | 57202/200000 [00:08<00:22, 6387.16it/s]"
     ]
    },
    {
     "name": "stderr",
     "output_type": "stream",
     "text": [
      "\r 29%|██▉       | 57855/200000 [00:08<00:22, 6403.63it/s]"
     ]
    },
    {
     "name": "stderr",
     "output_type": "stream",
     "text": [
      "\r 29%|██▉       | 58505/200000 [00:08<00:22, 6378.26it/s]"
     ]
    },
    {
     "name": "stderr",
     "output_type": "stream",
     "text": [
      "\r 30%|██▉       | 59183/200000 [00:08<00:21, 6493.23it/s]"
     ]
    },
    {
     "name": "stderr",
     "output_type": "stream",
     "text": [
      "\r 30%|███       | 60044/200000 [00:08<00:19, 7009.84it/s]"
     ]
    },
    {
     "name": "stderr",
     "output_type": "stream",
     "text": [
      "\r 30%|███       | 60942/200000 [00:08<00:18, 7503.17it/s]"
     ]
    },
    {
     "name": "stderr",
     "output_type": "stream",
     "text": [
      "\r 31%|███       | 61856/200000 [00:08<00:17, 7928.31it/s]"
     ]
    },
    {
     "name": "stderr",
     "output_type": "stream",
     "text": [
      "\r 31%|███▏      | 62753/200000 [00:08<00:16, 8214.04it/s]"
     ]
    },
    {
     "name": "stderr",
     "output_type": "stream",
     "text": [
      "\r 32%|███▏      | 63633/200000 [00:09<00:16, 8380.12it/s]"
     ]
    },
    {
     "name": "stderr",
     "output_type": "stream",
     "text": [
      "\r 32%|███▏      | 64530/200000 [00:09<00:15, 8547.12it/s]"
     ]
    },
    {
     "name": "stderr",
     "output_type": "stream",
     "text": [
      "\r 33%|███▎      | 65406/200000 [00:09<00:15, 8608.44it/s]"
     ]
    },
    {
     "name": "stderr",
     "output_type": "stream",
     "text": [
      "\r 33%|███▎      | 66274/200000 [00:09<00:16, 8184.98it/s]"
     ]
    },
    {
     "name": "stderr",
     "output_type": "stream",
     "text": [
      "\r 34%|███▎      | 67102/200000 [00:09<00:19, 6917.10it/s]"
     ]
    },
    {
     "name": "stderr",
     "output_type": "stream",
     "text": [
      "\r 34%|███▍      | 67834/200000 [00:09<00:18, 7005.75it/s]"
     ]
    },
    {
     "name": "stderr",
     "output_type": "stream",
     "text": [
      "\r 34%|███▍      | 68563/200000 [00:09<00:20, 6288.25it/s]"
     ]
    },
    {
     "name": "stderr",
     "output_type": "stream",
     "text": [
      "\r 35%|███▍      | 69226/200000 [00:09<00:22, 5863.89it/s]"
     ]
    },
    {
     "name": "stderr",
     "output_type": "stream",
     "text": [
      "\r 35%|███▍      | 69886/200000 [00:09<00:21, 6066.73it/s]"
     ]
    },
    {
     "name": "stderr",
     "output_type": "stream",
     "text": [
      "\r 35%|███▌      | 70643/200000 [00:10<00:20, 6450.64it/s]"
     ]
    },
    {
     "name": "stderr",
     "output_type": "stream",
     "text": [
      "\r 36%|███▌      | 71402/200000 [00:10<00:19, 6754.57it/s]"
     ]
    },
    {
     "name": "stderr",
     "output_type": "stream",
     "text": [
      "\r 36%|███▌      | 72262/200000 [00:10<00:17, 7216.24it/s]"
     ]
    },
    {
     "name": "stderr",
     "output_type": "stream",
     "text": [
      "\r 37%|███▋      | 73091/200000 [00:10<00:16, 7506.88it/s]"
     ]
    },
    {
     "name": "stderr",
     "output_type": "stream",
     "text": [
      "\r 37%|███▋      | 73970/200000 [00:10<00:16, 7849.78it/s]"
     ]
    },
    {
     "name": "stderr",
     "output_type": "stream",
     "text": [
      "\r 37%|███▋      | 74795/200000 [00:10<00:15, 7961.33it/s]"
     ]
    },
    {
     "name": "stderr",
     "output_type": "stream",
     "text": [
      "\r 38%|███▊      | 75693/200000 [00:10<00:15, 8237.07it/s]"
     ]
    },
    {
     "name": "stderr",
     "output_type": "stream",
     "text": [
      "\r 38%|███▊      | 76587/200000 [00:10<00:14, 8435.15it/s]"
     ]
    },
    {
     "name": "stderr",
     "output_type": "stream",
     "text": [
      "\r 39%|███▊      | 77490/200000 [00:10<00:14, 8603.88it/s]"
     ]
    },
    {
     "name": "stderr",
     "output_type": "stream",
     "text": [
      "\r 39%|███▉      | 78385/200000 [00:10<00:13, 8703.86it/s]"
     ]
    },
    {
     "name": "stderr",
     "output_type": "stream",
     "text": [
      "\r 40%|███▉      | 79294/200000 [00:11<00:13, 8815.77it/s]"
     ]
    },
    {
     "name": "stderr",
     "output_type": "stream",
     "text": [
      "\r 40%|████      | 80180/200000 [00:11<00:13, 8801.26it/s]"
     ]
    },
    {
     "name": "stderr",
     "output_type": "stream",
     "text": [
      "\r 41%|████      | 81090/200000 [00:11<00:13, 8888.10it/s]"
     ]
    },
    {
     "name": "stderr",
     "output_type": "stream",
     "text": [
      "\r 41%|████      | 81998/200000 [00:11<00:13, 8943.10it/s]"
     ]
    },
    {
     "name": "stderr",
     "output_type": "stream",
     "text": [
      "\r 41%|████▏     | 82897/200000 [00:11<00:13, 8955.65it/s]"
     ]
    },
    {
     "name": "stderr",
     "output_type": "stream",
     "text": [
      "\r 42%|████▏     | 83796/200000 [00:11<00:12, 8965.06it/s]"
     ]
    },
    {
     "name": "stderr",
     "output_type": "stream",
     "text": [
      "\r 42%|████▏     | 84694/200000 [00:11<00:12, 8952.85it/s]"
     ]
    },
    {
     "name": "stderr",
     "output_type": "stream",
     "text": [
      "\r 43%|████▎     | 85590/200000 [00:11<00:12, 8953.68it/s]"
     ]
    },
    {
     "name": "stderr",
     "output_type": "stream",
     "text": [
      "\r 43%|████▎     | 86486/200000 [00:11<00:12, 8954.66it/s]"
     ]
    },
    {
     "name": "stderr",
     "output_type": "stream",
     "text": [
      "\r 44%|████▎     | 87382/200000 [00:11<00:12, 8902.36it/s]"
     ]
    },
    {
     "name": "stderr",
     "output_type": "stream",
     "text": [
      "\r 44%|████▍     | 88273/200000 [00:12<00:12, 8877.68it/s]"
     ]
    },
    {
     "name": "stderr",
     "output_type": "stream",
     "text": [
      "\r 45%|████▍     | 89172/200000 [00:12<00:12, 8909.60it/s]"
     ]
    },
    {
     "name": "stderr",
     "output_type": "stream",
     "text": [
      "\r 45%|████▌     | 90064/200000 [00:12<00:12, 8897.67it/s]"
     ]
    },
    {
     "name": "stderr",
     "output_type": "stream",
     "text": [
      "\r 45%|████▌     | 90966/200000 [00:12<00:12, 8930.71it/s]"
     ]
    },
    {
     "name": "stderr",
     "output_type": "stream",
     "text": [
      "\r 46%|████▌     | 91874/200000 [00:12<00:12, 8974.58it/s]"
     ]
    },
    {
     "name": "stderr",
     "output_type": "stream",
     "text": [
      "\r 46%|████▋     | 92792/200000 [00:12<00:11, 9034.38it/s]"
     ]
    },
    {
     "name": "stderr",
     "output_type": "stream",
     "text": [
      "\r 47%|████▋     | 93696/200000 [00:12<00:13, 7655.72it/s]"
     ]
    },
    {
     "name": "stderr",
     "output_type": "stream",
     "text": [
      "\r 47%|████▋     | 94593/200000 [00:12<00:13, 8006.21it/s]"
     ]
    },
    {
     "name": "stderr",
     "output_type": "stream",
     "text": [
      "\r 48%|████▊     | 95486/200000 [00:12<00:12, 8256.90it/s]"
     ]
    },
    {
     "name": "stderr",
     "output_type": "stream",
     "text": [
      "\r 48%|████▊     | 96335/200000 [00:13<00:12, 8289.27it/s]"
     ]
    },
    {
     "name": "stderr",
     "output_type": "stream",
     "text": [
      "\r 49%|████▊     | 97237/200000 [00:13<00:12, 8495.22it/s]"
     ]
    },
    {
     "name": "stderr",
     "output_type": "stream",
     "text": [
      "\r 49%|████▉     | 98134/200000 [00:13<00:11, 8630.87it/s]"
     ]
    },
    {
     "name": "stderr",
     "output_type": "stream",
     "text": [
      "\r 50%|████▉     | 99033/200000 [00:13<00:11, 8733.19it/s]"
     ]
    },
    {
     "name": "stderr",
     "output_type": "stream",
     "text": [
      "\r 50%|████▉     | 99936/200000 [00:13<00:11, 8819.75it/s]"
     ]
    },
    {
     "name": "stderr",
     "output_type": "stream",
     "text": [
      "\r 50%|█████     | 100833/200000 [00:13<00:11, 8864.21it/s]"
     ]
    },
    {
     "name": "stderr",
     "output_type": "stream",
     "text": [
      "\r 51%|█████     | 101731/200000 [00:13<00:11, 8897.28it/s]"
     ]
    },
    {
     "name": "stderr",
     "output_type": "stream",
     "text": [
      "\r 51%|█████▏    | 102630/200000 [00:13<00:10, 8918.57it/s]"
     ]
    },
    {
     "name": "stderr",
     "output_type": "stream",
     "text": [
      "\r 52%|█████▏    | 103524/200000 [00:13<00:10, 8909.56it/s]"
     ]
    },
    {
     "name": "stderr",
     "output_type": "stream",
     "text": [
      "\r 52%|█████▏    | 104433/200000 [00:13<00:10, 8962.14it/s]"
     ]
    },
    {
     "name": "stderr",
     "output_type": "stream",
     "text": [
      "\r 53%|█████▎    | 105331/200000 [00:14<00:10, 8947.34it/s]"
     ]
    },
    {
     "name": "stderr",
     "output_type": "stream",
     "text": [
      "\r 53%|█████▎    | 106245/200000 [00:14<00:10, 9004.17it/s]"
     ]
    },
    {
     "name": "stderr",
     "output_type": "stream",
     "text": [
      "\r 54%|█████▎    | 107148/200000 [00:14<00:10, 9011.85it/s]"
     ]
    },
    {
     "name": "stderr",
     "output_type": "stream",
     "text": [
      "\r 54%|█████▍    | 108054/200000 [00:14<00:10, 9019.60it/s]"
     ]
    },
    {
     "name": "stderr",
     "output_type": "stream",
     "text": [
      "\r 54%|█████▍    | 108957/200000 [00:14<00:10, 9018.80it/s]"
     ]
    },
    {
     "name": "stderr",
     "output_type": "stream",
     "text": [
      "\r 55%|█████▍    | 109861/200000 [00:14<00:09, 9024.34it/s]"
     ]
    },
    {
     "name": "stderr",
     "output_type": "stream",
     "text": [
      "\r 55%|█████▌    | 110764/200000 [00:14<00:09, 8965.97it/s]"
     ]
    },
    {
     "name": "stderr",
     "output_type": "stream",
     "text": [
      "\r 56%|█████▌    | 111664/200000 [00:14<00:09, 8971.89it/s]"
     ]
    },
    {
     "name": "stderr",
     "output_type": "stream",
     "text": [
      "\r 56%|█████▋    | 112562/200000 [00:14<00:09, 8942.04it/s]"
     ]
    },
    {
     "name": "stderr",
     "output_type": "stream",
     "text": [
      "\r 57%|█████▋    | 113470/200000 [00:14<00:09, 8981.87it/s]"
     ]
    },
    {
     "name": "stderr",
     "output_type": "stream",
     "text": [
      "\r 57%|█████▋    | 114369/200000 [00:15<00:09, 8678.71it/s]"
     ]
    },
    {
     "name": "stderr",
     "output_type": "stream",
     "text": [
      "\r 58%|█████▊    | 115240/200000 [00:15<00:09, 8626.36it/s]"
     ]
    },
    {
     "name": "stderr",
     "output_type": "stream",
     "text": [
      "\r 58%|█████▊    | 116134/200000 [00:15<00:09, 8716.68it/s]"
     ]
    },
    {
     "name": "stderr",
     "output_type": "stream",
     "text": [
      "\r 59%|█████▊    | 117047/200000 [00:15<00:09, 8830.23it/s]"
     ]
    },
    {
     "name": "stderr",
     "output_type": "stream",
     "text": [
      "\r 59%|█████▉    | 117943/200000 [00:15<00:09, 8867.47it/s]"
     ]
    },
    {
     "name": "stderr",
     "output_type": "stream",
     "text": [
      "\r 59%|█████▉    | 118845/200000 [00:15<00:09, 8910.60it/s]"
     ]
    },
    {
     "name": "stderr",
     "output_type": "stream",
     "text": [
      "\r 60%|█████▉    | 119740/200000 [00:15<00:08, 8921.42it/s]"
     ]
    },
    {
     "name": "stderr",
     "output_type": "stream",
     "text": [
      "\r 60%|██████    | 120639/200000 [00:15<00:08, 8940.13it/s]"
     ]
    },
    {
     "name": "stderr",
     "output_type": "stream",
     "text": [
      "\r 61%|██████    | 121535/200000 [00:15<00:08, 8942.79it/s]"
     ]
    },
    {
     "name": "stderr",
     "output_type": "stream",
     "text": [
      "\r 61%|██████    | 122434/200000 [00:15<00:08, 8956.79it/s]"
     ]
    },
    {
     "name": "stderr",
     "output_type": "stream",
     "text": [
      "\r 62%|██████▏   | 123346/200000 [00:16<00:08, 9003.78it/s]"
     ]
    },
    {
     "name": "stderr",
     "output_type": "stream",
     "text": [
      "\r 62%|██████▏   | 124257/200000 [00:16<00:08, 9034.14it/s]"
     ]
    },
    {
     "name": "stderr",
     "output_type": "stream",
     "text": [
      "\r 63%|██████▎   | 125161/200000 [00:16<00:08, 9019.13it/s]"
     ]
    },
    {
     "name": "stderr",
     "output_type": "stream",
     "text": [
      "\r 63%|██████▎   | 126064/200000 [00:16<00:10, 7373.95it/s]"
     ]
    },
    {
     "name": "stderr",
     "output_type": "stream",
     "text": [
      "\r 63%|██████▎   | 126957/200000 [00:16<00:09, 7780.50it/s]"
     ]
    },
    {
     "name": "stderr",
     "output_type": "stream",
     "text": [
      "\r 64%|██████▍   | 127858/200000 [00:16<00:08, 8111.63it/s]"
     ]
    },
    {
     "name": "stderr",
     "output_type": "stream",
     "text": [
      "\r 64%|██████▍   | 128747/200000 [00:16<00:08, 8328.10it/s]"
     ]
    },
    {
     "name": "stderr",
     "output_type": "stream",
     "text": [
      "\r 65%|██████▍   | 129640/200000 [00:16<00:08, 8499.25it/s]"
     ]
    },
    {
     "name": "stderr",
     "output_type": "stream",
     "text": [
      "\r 65%|██████▌   | 130542/200000 [00:16<00:08, 8648.45it/s]"
     ]
    },
    {
     "name": "stderr",
     "output_type": "stream",
     "text": [
      "\r 66%|██████▌   | 131442/200000 [00:17<00:07, 8747.10it/s]"
     ]
    },
    {
     "name": "stderr",
     "output_type": "stream",
     "text": [
      "\r 66%|██████▌   | 132327/200000 [00:17<00:07, 8776.72it/s]"
     ]
    },
    {
     "name": "stderr",
     "output_type": "stream",
     "text": [
      "\r 67%|██████▋   | 133218/200000 [00:17<00:07, 8814.69it/s]"
     ]
    },
    {
     "name": "stderr",
     "output_type": "stream",
     "text": [
      "\r 67%|██████▋   | 134105/200000 [00:17<00:07, 8826.57it/s]"
     ]
    },
    {
     "name": "stderr",
     "output_type": "stream",
     "text": [
      "\r 68%|██████▊   | 135006/200000 [00:17<00:07, 8880.58it/s]"
     ]
    },
    {
     "name": "stderr",
     "output_type": "stream",
     "text": [
      "\r 68%|██████▊   | 135897/200000 [00:17<00:07, 8889.16it/s]"
     ]
    },
    {
     "name": "stderr",
     "output_type": "stream",
     "text": [
      "\r 68%|██████▊   | 136806/200000 [00:17<00:07, 8948.03it/s]"
     ]
    },
    {
     "name": "stderr",
     "output_type": "stream",
     "text": [
      "\r 69%|██████▉   | 137704/200000 [00:17<00:06, 8957.49it/s]"
     ]
    },
    {
     "name": "stderr",
     "output_type": "stream",
     "text": [
      "\r 69%|██████▉   | 138606/200000 [00:17<00:06, 8975.16it/s]"
     ]
    },
    {
     "name": "stderr",
     "output_type": "stream",
     "text": [
      "\r 70%|██████▉   | 139505/200000 [00:17<00:06, 8954.95it/s]"
     ]
    },
    {
     "name": "stderr",
     "output_type": "stream",
     "text": [
      "\r 70%|███████   | 140403/200000 [00:18<00:06, 8961.40it/s]"
     ]
    },
    {
     "name": "stderr",
     "output_type": "stream",
     "text": [
      "\r 71%|███████   | 141300/200000 [00:18<00:06, 8836.90it/s]"
     ]
    },
    {
     "name": "stderr",
     "output_type": "stream",
     "text": [
      "\r 71%|███████   | 142194/200000 [00:18<00:06, 8865.65it/s]"
     ]
    },
    {
     "name": "stderr",
     "output_type": "stream",
     "text": [
      "\r 72%|███████▏  | 143101/200000 [00:18<00:06, 8922.48it/s]"
     ]
    },
    {
     "name": "stderr",
     "output_type": "stream",
     "text": [
      "\r 72%|███████▏  | 143994/200000 [00:18<00:06, 8850.09it/s]"
     ]
    },
    {
     "name": "stderr",
     "output_type": "stream",
     "text": [
      "\r 72%|███████▏  | 144880/200000 [00:18<00:06, 8723.44it/s]"
     ]
    },
    {
     "name": "stderr",
     "output_type": "stream",
     "text": [
      "\r 73%|███████▎  | 145756/200000 [00:18<00:06, 8731.31it/s]"
     ]
    },
    {
     "name": "stderr",
     "output_type": "stream",
     "text": [
      "\r 73%|███████▎  | 146661/200000 [00:18<00:06, 8823.79it/s]"
     ]
    },
    {
     "name": "stderr",
     "output_type": "stream",
     "text": [
      "\r 74%|███████▍  | 147544/200000 [00:18<00:05, 8811.38it/s]"
     ]
    },
    {
     "name": "stderr",
     "output_type": "stream",
     "text": [
      "\r 74%|███████▍  | 148426/200000 [00:18<00:05, 8796.01it/s]"
     ]
    },
    {
     "name": "stderr",
     "output_type": "stream",
     "text": [
      "\r 75%|███████▍  | 149311/200000 [00:19<00:05, 8811.06it/s]"
     ]
    },
    {
     "name": "stderr",
     "output_type": "stream",
     "text": [
      "\r 75%|███████▌  | 150214/200000 [00:19<00:05, 8874.92it/s]"
     ]
    },
    {
     "name": "stderr",
     "output_type": "stream",
     "text": [
      "\r 76%|███████▌  | 151103/200000 [00:19<00:05, 8879.41it/s]"
     ]
    },
    {
     "name": "stderr",
     "output_type": "stream",
     "text": [
      "\r 76%|███████▌  | 152007/200000 [00:19<00:05, 8921.06it/s]"
     ]
    },
    {
     "name": "stderr",
     "output_type": "stream",
     "text": [
      "\r 76%|███████▋  | 152904/200000 [00:19<00:05, 8935.47it/s]"
     ]
    },
    {
     "name": "stderr",
     "output_type": "stream",
     "text": [
      "\r 77%|███████▋  | 153799/200000 [00:19<00:05, 8939.21it/s]"
     ]
    },
    {
     "name": "stderr",
     "output_type": "stream",
     "text": [
      "\r 77%|███████▋  | 154700/200000 [00:19<00:05, 8954.16it/s]"
     ]
    },
    {
     "name": "stderr",
     "output_type": "stream",
     "text": [
      "\r 78%|███████▊  | 155602/200000 [00:19<00:04, 8972.98it/s]"
     ]
    },
    {
     "name": "stderr",
     "output_type": "stream",
     "text": [
      "\r 78%|███████▊  | 156500/200000 [00:19<00:04, 8930.12it/s]"
     ]
    },
    {
     "name": "stderr",
     "output_type": "stream",
     "text": [
      "\r 79%|███████▊  | 157394/200000 [00:19<00:04, 8736.87it/s]"
     ]
    },
    {
     "name": "stderr",
     "output_type": "stream",
     "text": [
      "\r 79%|███████▉  | 158294/200000 [00:20<00:04, 8811.54it/s]"
     ]
    },
    {
     "name": "stderr",
     "output_type": "stream",
     "text": [
      "\r 80%|███████▉  | 159176/200000 [00:20<00:04, 8778.49it/s]"
     ]
    },
    {
     "name": "stderr",
     "output_type": "stream",
     "text": [
      "\r 80%|████████  | 160082/200000 [00:20<00:04, 8860.03it/s]"
     ]
    },
    {
     "name": "stderr",
     "output_type": "stream",
     "text": [
      "\r 80%|████████  | 160969/200000 [00:20<00:04, 8856.80it/s]"
     ]
    },
    {
     "name": "stderr",
     "output_type": "stream",
     "text": [
      "\r 81%|████████  | 161856/200000 [00:20<00:04, 8827.30it/s]"
     ]
    },
    {
     "name": "stderr",
     "output_type": "stream",
     "text": [
      "\r 81%|████████▏ | 162749/200000 [00:20<00:04, 8857.68it/s]"
     ]
    },
    {
     "name": "stderr",
     "output_type": "stream",
     "text": [
      "\r 82%|████████▏ | 163636/200000 [00:20<00:04, 8855.80it/s]"
     ]
    },
    {
     "name": "stderr",
     "output_type": "stream",
     "text": [
      "\r 82%|████████▏ | 164522/200000 [00:20<00:04, 8769.58it/s]"
     ]
    },
    {
     "name": "stderr",
     "output_type": "stream",
     "text": [
      "\r 83%|████████▎ | 165425/200000 [00:20<00:03, 8845.26it/s]"
     ]
    },
    {
     "name": "stderr",
     "output_type": "stream",
     "text": [
      "\r 83%|████████▎ | 166310/200000 [00:21<00:04, 6867.49it/s]"
     ]
    },
    {
     "name": "stderr",
     "output_type": "stream",
     "text": [
      "\r 84%|████████▎ | 167230/200000 [00:21<00:04, 7430.38it/s]"
     ]
    },
    {
     "name": "stderr",
     "output_type": "stream",
     "text": [
      "\r 84%|████████▍ | 168127/200000 [00:21<00:04, 7828.62it/s]"
     ]
    },
    {
     "name": "stderr",
     "output_type": "stream",
     "text": [
      "\r 84%|████████▍ | 168995/200000 [00:21<00:03, 8065.91it/s]"
     ]
    },
    {
     "name": "stderr",
     "output_type": "stream",
     "text": [
      "\r 85%|████████▍ | 169882/200000 [00:21<00:03, 8290.91it/s]"
     ]
    },
    {
     "name": "stderr",
     "output_type": "stream",
     "text": [
      "\r 85%|████████▌ | 170792/200000 [00:21<00:03, 8516.46it/s]"
     ]
    },
    {
     "name": "stderr",
     "output_type": "stream",
     "text": [
      "\r 86%|████████▌ | 171684/200000 [00:21<00:03, 8632.48it/s]"
     ]
    },
    {
     "name": "stderr",
     "output_type": "stream",
     "text": [
      "\r 86%|████████▋ | 172582/200000 [00:21<00:03, 8733.63it/s]"
     ]
    },
    {
     "name": "stderr",
     "output_type": "stream",
     "text": [
      "\r 87%|████████▋ | 173489/200000 [00:21<00:03, 8830.08it/s]"
     ]
    },
    {
     "name": "stderr",
     "output_type": "stream",
     "text": [
      "\r 87%|████████▋ | 174399/200000 [00:21<00:02, 8903.92it/s]"
     ]
    },
    {
     "name": "stderr",
     "output_type": "stream",
     "text": [
      "\r 88%|████████▊ | 175295/200000 [00:22<00:02, 8899.06it/s]"
     ]
    },
    {
     "name": "stderr",
     "output_type": "stream",
     "text": [
      "\r 88%|████████▊ | 176205/200000 [00:22<00:02, 8958.27it/s]"
     ]
    },
    {
     "name": "stderr",
     "output_type": "stream",
     "text": [
      "\r 89%|████████▊ | 177104/200000 [00:22<00:02, 8953.16it/s]"
     ]
    },
    {
     "name": "stderr",
     "output_type": "stream",
     "text": [
      "\r 89%|████████▉ | 178004/200000 [00:22<00:02, 8967.09it/s]"
     ]
    },
    {
     "name": "stderr",
     "output_type": "stream",
     "text": [
      "\r 89%|████████▉ | 178906/200000 [00:22<00:02, 8982.78it/s]"
     ]
    },
    {
     "name": "stderr",
     "output_type": "stream",
     "text": [
      "\r 90%|████████▉ | 179830/200000 [00:22<00:02, 9056.94it/s]"
     ]
    },
    {
     "name": "stderr",
     "output_type": "stream",
     "text": [
      "\r 90%|█████████ | 180737/200000 [00:22<00:02, 9041.83it/s]"
     ]
    },
    {
     "name": "stderr",
     "output_type": "stream",
     "text": [
      "\r 91%|█████████ | 181648/200000 [00:22<00:02, 9061.07it/s]"
     ]
    },
    {
     "name": "stderr",
     "output_type": "stream",
     "text": [
      "\r 91%|█████████▏| 182555/200000 [00:22<00:01, 9025.89it/s]"
     ]
    },
    {
     "name": "stderr",
     "output_type": "stream",
     "text": [
      "\r 92%|█████████▏| 183458/200000 [00:22<00:01, 8984.06it/s]"
     ]
    },
    {
     "name": "stderr",
     "output_type": "stream",
     "text": [
      "\r 92%|█████████▏| 184360/200000 [00:23<00:01, 8992.05it/s]"
     ]
    },
    {
     "name": "stderr",
     "output_type": "stream",
     "text": [
      "\r 93%|█████████▎| 185260/200000 [00:23<00:01, 8983.31it/s]"
     ]
    },
    {
     "name": "stderr",
     "output_type": "stream",
     "text": [
      "\r 93%|█████████▎| 186164/200000 [00:23<00:01, 8998.50it/s]"
     ]
    },
    {
     "name": "stderr",
     "output_type": "stream",
     "text": [
      "\r 94%|█████████▎| 187069/200000 [00:23<00:01, 9006.95it/s]"
     ]
    },
    {
     "name": "stderr",
     "output_type": "stream",
     "text": [
      "\r 94%|█████████▍| 187982/200000 [00:23<00:01, 9039.75it/s]"
     ]
    },
    {
     "name": "stderr",
     "output_type": "stream",
     "text": [
      "\r 94%|█████████▍| 188887/200000 [00:23<00:01, 8831.20it/s]"
     ]
    },
    {
     "name": "stderr",
     "output_type": "stream",
     "text": [
      "\r 95%|█████████▍| 189774/200000 [00:23<00:01, 8841.78it/s]"
     ]
    },
    {
     "name": "stderr",
     "output_type": "stream",
     "text": [
      "\r 95%|█████████▌| 190661/200000 [00:23<00:01, 8849.62it/s]"
     ]
    },
    {
     "name": "stderr",
     "output_type": "stream",
     "text": [
      "\r 96%|█████████▌| 191552/200000 [00:23<00:00, 8867.40it/s]"
     ]
    },
    {
     "name": "stderr",
     "output_type": "stream",
     "text": [
      "\r 96%|█████████▌| 192453/200000 [00:23<00:00, 8909.55it/s]"
     ]
    },
    {
     "name": "stderr",
     "output_type": "stream",
     "text": [
      "\r 97%|█████████▋| 193345/200000 [00:24<00:00, 8891.37it/s]"
     ]
    },
    {
     "name": "stderr",
     "output_type": "stream",
     "text": [
      "\r 97%|█████████▋| 194257/200000 [00:24<00:00, 8952.10it/s]"
     ]
    },
    {
     "name": "stderr",
     "output_type": "stream",
     "text": [
      "\r 98%|█████████▊| 195156/200000 [00:24<00:00, 8963.35it/s]"
     ]
    },
    {
     "name": "stderr",
     "output_type": "stream",
     "text": [
      "\r 98%|█████████▊| 196053/200000 [00:24<00:00, 8931.57it/s]"
     ]
    },
    {
     "name": "stderr",
     "output_type": "stream",
     "text": [
      "\r 98%|█████████▊| 196958/200000 [00:24<00:00, 8961.56it/s]"
     ]
    },
    {
     "name": "stderr",
     "output_type": "stream",
     "text": [
      "\r 99%|█████████▉| 197863/200000 [00:24<00:00, 8987.74it/s]"
     ]
    },
    {
     "name": "stderr",
     "output_type": "stream",
     "text": [
      "\r 99%|█████████▉| 198770/200000 [00:24<00:00, 9011.84it/s]"
     ]
    },
    {
     "name": "stderr",
     "output_type": "stream",
     "text": [
      "\r100%|█████████▉| 199679/200000 [00:24<00:00, 9033.80it/s]"
     ]
    },
    {
     "name": "stderr",
     "output_type": "stream",
     "text": [
      "\r100%|██████████| 200000/200000 [00:24<00:00, 8060.64it/s]"
     ]
    },
    {
     "name": "stdout",
     "output_type": "stream",
     "text": [
      "共玩了200000局，玩家赢58329局，和11397局，输130274局，胜率：0.29,不输率:0.35\n"
     ]
    },
    {
     "name": "stderr",
     "output_type": "stream",
     "text": [
      "\n"
     ]
    }
   ],
   "source": [
    "arena.play_games(dealer, player, num=200000)"
   ]
  },
  {
   "cell_type": "markdown",
   "metadata": {},
   "source": [
    "#### 接下来进行对局评估"
   ]
  },
  {
   "cell_type": "code",
   "execution_count": 7,
   "metadata": {},
   "outputs": [],
   "source": [
    "# 统计个状态的价值，衰减因子为1，中间状态的即时奖励为0，递增式蒙特卡洛评估\n",
    "def policy_evaluate(episodes, V, Ns):\n",
    "    for episode, r in episodes:\n",
    "        for s, a in episode:\n",
    "            ns = get_dict(Ns, s)\n",
    "            v = get_dict(V, s)\n",
    "            set_dict(Ns, ns+1, s)\n",
    "            set_dict(V, v+(r-v)/(ns+1), s)"
   ]
  },
  {
   "cell_type": "code",
   "execution_count": 8,
   "metadata": {},
   "outputs": [],
   "source": [
    "V = {} # 状态价值字典\n",
    "Ns = {} # 状态被访问的次数节点\n",
    "policy_evaluate(arena.episodes, V, Ns) # 学习V值\n",
    "#print(V)"
   ]
  },
  {
   "cell_type": "code",
   "execution_count": 9,
   "metadata": {},
   "outputs": [],
   "source": [
    "def draw_value(value_dict, useable_ace = True, is_q_dict = False, A = None):\n",
    "    # 定义figure\n",
    "    fig = plt.figure()\n",
    "    # 将figure变为3d\n",
    "    ax = Axes3D(fig)\n",
    "    # 定义x, y\n",
    "    x = np.arange(1, 11, 1) # 庄家第一张牌\n",
    "    y = np.arange(12, 22, 1) # 玩家总分数\n",
    "    # 生成网格数据\n",
    "    X, Y = np.meshgrid(x, y)\n",
    "    # 从V字典检索Z轴的高度\n",
    "    row, col = X.shape\n",
    "    Z = np.zeros((row,col))\n",
    "    if is_q_dict:\n",
    "        n = len(A)\n",
    "    for i in range(row):\n",
    "        for j in range(col):\n",
    "            state_name = str(X[i,j])+\"_\"+str(Y[i,j])+\"_\"+str(useable_ace)\n",
    "            if not is_q_dict:\n",
    "                Z[i,j] = get_dict(value_dict, state_name)\n",
    "            else:\n",
    "                assert(A is not None)\n",
    "                for a in A:\n",
    "                    new_state_name = state_name + \"_\" + str(a)\n",
    "                    q = get_dict(value_dict, new_state_name)\n",
    "                    if q >= Z[i,j]:\n",
    "                        Z[i,j] = q\n",
    "    # 绘制3D曲面\n",
    "    ax.plot_surface(X, Y, Z, rstride = 1, cstride = 1, color=\"lightgray\")\n",
    "    plt.show()"
   ]
  },
  {
   "cell_type": "code",
   "execution_count": 10,
   "metadata": {},
   "outputs": [
    {
     "data": {
      "image/png": "[encoded data removed]",
      "text/plain": [
       "<Figure size 432x288 with 1 Axes>"
      ]
     },
     "metadata": {},
     "output_type": "display_data"
    },
    {
     "data": {
      "image/png": "[encoded data removed]",
      "text/plain": [
       "<Figure size 432x288 with 1 Axes>"
      ]
     },
     "metadata": {},
     "output_type": "display_data"
    }
   ],
   "source": [
    "draw_value(V, useable_ace = True, A = A) # 绘制状态价值图\n",
    "draw_value(V, useable_ace = False, A = A) # 绘制状态价值图"
   ]
  },
  {
   "cell_type": "code",
   "execution_count": 11,
   "metadata": {},
   "outputs": [
    {
     "name": "stderr",
     "output_type": "stream",
     "text": [
      "\r  0%|          | 0/2 [00:00<?, ?it/s]"
     ]
    },
    {
     "name": "stderr",
     "output_type": "stream",
     "text": [
      "\r100%|██████████| 2/2 [00:00<00:00, 827.52it/s]"
     ]
    },
    {
     "name": "stdout",
     "output_type": "stream",
     "text": [
      "========= 开始新一局 =========\n发了2张牌(['Q', '6'])给玩家;玩家现在的牌:['Q', '6']\n发了2张牌(['6', '7'])给庄家;庄家现在的牌:['6', '7']\n玩家选择:继续叫牌;发了1张牌(['6'])给玩家;玩家现在的牌:['Q', '6', '6']\n玩家选择:停止叫牌;玩家爆点22输了，得分:-1\n========= 本局结束 ==========\n========= 开始新一局 =========\n发了2张牌(['7', '3'])给玩家;玩家现在的牌:['7', '3']\n发了2张牌(['4', '2'])给庄家;庄家现在的牌:['4', '2']\n玩家选择:继续叫牌;发了1张牌(['8'])给玩家;玩家现在的牌:['7', '3', '8']\n玩家选择:继续叫牌;发了1张牌(['K'])给玩家;玩家现在的牌:['7', '3', '8', 'K']\n玩家选择:停止叫牌;玩家爆点28输了，得分:-1\n========= 本局结束 ==========\n共玩了2局，玩家赢0局，和0局，输2局，胜率：0.00,不输率:0.00\n"
     ]
    },
    {
     "name": "stderr",
     "output_type": "stream",
     "text": [
      "\n"
     ]
    }
   ],
   "source": [
    "# 观察几局对局信息\n",
    "display = True\n",
    "player.display, dealer.display, arena.display = display, display, display\n",
    "arena.play_games(dealer, player, num =2)"
   ]
  },
  {
   "cell_type": "code",
   "execution_count": null,
   "metadata": {},
   "outputs": [],
   "source": []
  }
 ],
 "metadata": {
  "kernelspec": {
   "display_name": "Python 2",
   "language": "python",
   "name": "python2"
  },
  "language_info": {
   "codemirror_mode": {
    "name": "ipython",
    "version": 2
   },
   "file_extension": ".py",
   "mimetype": "text/x-python",
   "name": "python",
   "nbconvert_exporter": "python",
   "pygments_lexer": "ipython2",
   "version": "2.7.6"
  }
 },
 "nbformat": 4,
 "nbformat_minor": 0
}
