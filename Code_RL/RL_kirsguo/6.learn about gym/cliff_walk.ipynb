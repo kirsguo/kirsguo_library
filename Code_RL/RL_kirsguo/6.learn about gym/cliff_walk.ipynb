{
 "cells": [
  {
   "cell_type": "markdown",
   "metadata": {
    "collapsed": true
   },
   "source": [
    "### 下面以一个悬崖行走格子世界环境为例，讲解如何使用通用的格子世界环境类来得到自己想要的格子世界环境对象"
   ]
  },
  {
   "cell_type": "markdown",
   "metadata": {},
   "source": [
    "#### 首先，明确格子世界环境的布局：长宽格子数、内部的障碍、即时奖励、起始状态、终止状态等信息。对于悬崖行走示例来说，世界长 12 、宽 4 ，起始位置在左下角坐标为 (0,0) ，终止状态在右下角，坐标为 (11,0) 。使用对应的参数建立一个格子世界环境类对象："
   ]
  },
  {
   "cell_type": "code",
   "execution_count": 1,
   "metadata": {},
   "outputs": [],
   "source": [
    "import sys\n",
    "sys.path.append(r'./PycharmProjects/RL_kirsguo/6.learn about gym')\n",
    "import gridworld as world\n",
    "env = world.GridWorldEnv(n_width=12,          # 水平方向格子数量\n",
    "                   n_height=4,        # 垂直方向格子数量\n",
    "                   u_size=60,         # 可以根据喜好调整大小\n",
    "                   default_reward=-1, # 默认格子的即时奖励值\n",
    "                   default_type=0)    # 默认的格子都是可以进入的\n",
    "from gym import spaces                  # 导入spaces\n",
    "env.action_space = spaces.Discrete(4)   # 设置行为空间支持的行为数量\n",
    "# 格子世界环境类默认使用0表示左，1：右，2：上，3:下，4,5,6,7为斜向行走\n",
    "# 具体可参考_step内的定义\n",
    "# 格子世界的观测空间不需要额外设置，会自动根据传入的格子数量计算得到"
   ]
  },
  {
   "cell_type": "markdown",
   "metadata": {},
   "source": [
    "#### 设置起始和终止状态，起始状态用元组描述，终止状态用列表描述"
   ]
  },
  {
   "cell_type": "code",
   "execution_count": 2,
   "metadata": {},
   "outputs": [],
   "source": [
    "env.start = (0,0)\n",
    "env.ends = [(11,0)]"
   ]
  },
  {
   "cell_type": "markdown",
   "metadata": {},
   "source": [
    "#### 对一些特殊格子的类型和即时奖励值进行修改，这里要把组成悬崖的格子的即时奖励设为-100，这个例子中没有不可进入的格子，所以不需要对格子类型进行修改。示例中悬崖格子是终止状态，因此有："
   ]
  },
  {
   "cell_type": "code",
   "execution_count": 3,
   "metadata": {},
   "outputs": [],
   "source": [
    "for i in range(10):\n",
    "    env.rewards.append((i+1, 0, -100))\n",
    "    env.ends.append((i+1, 0))"
   ]
  },
  {
   "cell_type": "markdown",
   "metadata": {},
   "source": [
    "#### 特殊类型的格子设置类似于即时奖励设置，比如我们将坐标为（5,1）和（5,2）的两个格子设为不可进入，可以添加如下代码："
   ]
  },
  {
   "cell_type": "code",
   "execution_count": 4,
   "metadata": {},
   "outputs": [],
   "source": [
    "env.types = [(5, 1, 1), (5, 2, 1)]"
   ]
  },
  {
   "cell_type": "markdown",
   "metadata": {},
   "source": [
    "#### 最后为了使这些设置在实际生效，调用刷新设置方法：\n"
   ]
  },
  {
   "cell_type": "code",
   "execution_count": 5,
   "metadata": {},
   "outputs": [],
   "source": [
    "env.refresh_setting()"
   ]
  },
  {
   "cell_type": "code",
   "execution_count": 6,
   "metadata": {},
   "outputs": [
    {
     "data": {
      "text/plain": [
       "True"
      ]
     },
     "execution_count": 6,
     "metadata": {},
     "output_type": "execute_result"
    }
   ],
   "source": [
    "env.render()"
   ]
  },
  {
   "cell_type": "markdown",
   "metadata": {},
   "source": [
    "#### 两块障碍已经顺利生成了，可是发现个体的位置不在起始位置，为此我们需要重置下个体的位置，只需要调用env的reset()方法就可以了："
   ]
  },
  {
   "cell_type": "code",
   "execution_count": 7,
   "metadata": {},
   "outputs": [
    {
     "data": {
      "text/plain": [
       "0"
      ]
     },
     "execution_count": 7,
     "metadata": {},
     "output_type": "execute_result"
    }
   ],
   "source": [
    "env.reset()"
   ]
  },
  {
   "cell_type": "markdown",
   "metadata": {},
   "source": [
    "#### 有了格子世界通用环境类，我们就可以比较方便定制自己的格子世界环境。为了方便使用，我也写好了几个内置的格子世界环境，大家只要调用相应的方法就可以得到它："
   ]
  },
  {
   "cell_type": "code",
   "execution_count": 8,
   "metadata": {},
   "outputs": [],
   "source": [
    "env = world.LargeGridWorld()   # 10*10的大格子\n",
    "env = world.SimpleGridWorld()  # 10*7简单无风格子\n",
    "env = world.WindyGridWorld()   # 10*7有风格子\n",
    "env = world.RandomWalk()       # 随机行走\n",
    "env = world.CliffWalk()        # 悬崖行走\n",
    "env = world.SkullAndTreasure() # 骷髅和钱袋子示例"
   ]
  },
  {
   "cell_type": "markdown",
   "metadata": {},
   "source": [
    "如果您希望让您的个体支持斜向行走，请将相应的行为空间参数设为8，同时请留意环境类的_step方法关于斜向行走状态的改变是否如您所愿的那样设置，您可以在此基础上定制自己的行为规则。\n"
   ]
  },
  {
   "cell_type": "code",
   "execution_count": null,
   "metadata": {},
   "outputs": [],
   "source": []
  }
 ],
 "metadata": {
  "kernelspec": {
   "display_name": "Python 2",
   "language": "python",
   "name": "python2"
  },
  "language_info": {
   "codemirror_mode": {
    "name": "ipython",
    "version": 2
   },
   "file_extension": ".py",
   "mimetype": "text/x-python",
   "name": "python",
   "nbconvert_exporter": "python",
   "pygments_lexer": "ipython2",
   "version": "2.7.6"
  }
 },
 "nbformat": 4,
 "nbformat_minor": 0
}
